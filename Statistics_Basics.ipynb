{
  "nbformat": 4,
  "nbformat_minor": 0,
  "metadata": {
    "colab": {
      "provenance": []
    },
    "kernelspec": {
      "name": "python3",
      "display_name": "Python 3"
    },
    "language_info": {
      "name": "python"
    }
  },
  "cells": [
    {
      "cell_type": "markdown",
      "source": [
        "1. What is Statistics, and Why is it Important?"
      ],
      "metadata": {
        "id": "OreQS2tCSHwW"
      }
    },
    {
      "cell_type": "markdown",
      "source": [
        "Statistics is the branch of mathematics that deals with collecting, organizing, analyzing, interpreting, and presenting data. It is essential for making informed decisions in various fields like business, healthcare, education, government, and social sciences. For example, companies use statistics to understand customer preferences and improve products."
      ],
      "metadata": {
        "id": "m6BGQH7LSPCj"
      }
    },
    {
      "cell_type": "markdown",
      "source": [
        "2. What are the Two Main Types of Statistics?"
      ],
      "metadata": {
        "id": "EYEtGKjESXgH"
      }
    },
    {
      "cell_type": "markdown",
      "source": [
        "\n",
        "\n",
        "- Descriptive Statistics: Summarizes data using numerical and graphical methods.\n",
        "\n",
        "- Inferential Statistics: Makes predictions or inferences about a population based on a sample"
      ],
      "metadata": {
        "id": "g9ZpJ0bRSZj1"
      }
    },
    {
      "cell_type": "markdown",
      "source": [
        "3. What are Descriptive Statistics?\n",
        "Descriptive statistics involve tools such as:"
      ],
      "metadata": {
        "id": "_nIcIhJTShSI"
      }
    },
    {
      "cell_type": "markdown",
      "source": [
        "- Measures of Central Tendency (Mean, Median, Mode)\n",
        "\n",
        "- Measures of Dispersion (Range, Variance, Standard Deviation)\n",
        "\n",
        "- Graphical Representations (Histograms, Pie Charts)"
      ],
      "metadata": {
        "id": "Bbmnrgv5Smw-"
      }
    },
    {
      "cell_type": "markdown",
      "source": [
        "4. What is Inferential Statistics?"
      ],
      "metadata": {
        "id": "7h7ejxBLSsuU"
      }
    },
    {
      "cell_type": "markdown",
      "source": [
        "Inferential statistics allows conclusions to be drawn about a larger group (population) based on a smaller sample using methods like hypothesis testing, confidence intervals, and regression analysis."
      ],
      "metadata": {
        "id": "P5hDt9TeSziA"
      }
    },
    {
      "cell_type": "markdown",
      "source": [
        "5. What is Sampling in Statistics?\n"
      ],
      "metadata": {
        "id": "jf2oemHUS2G9"
      }
    },
    {
      "cell_type": "markdown",
      "source": [
        "Sampling is selecting a portion (sample) of the population to estimate population parameters. This saves time and cost compared to studying the entire population."
      ],
      "metadata": {
        "id": "bTckEHgaS4eL"
      }
    },
    {
      "cell_type": "markdown",
      "source": [
        "\n",
        "\n",
        "6. What are the Different Types of Sampling Methods?"
      ],
      "metadata": {
        "id": "weNkjIJXS9TW"
      }
    },
    {
      "cell_type": "markdown",
      "source": [
        "- Random Sampling: Every member has an equal chance.\n",
        "\n",
        "- Stratified Sampling: Divides population into subgroups and samples from each.\n",
        "\n",
        "- Systematic Sampling: Every nth member is selected.\n",
        "\n",
        "- Cluster Sampling: Entire groups are randomly selected.\n",
        "\n",
        "- Convenience Sampling: Based on ease of access.\n",
        "\n",
        "- Purposive Sampling: Based on specific characteristics."
      ],
      "metadata": {
        "id": "8V8_7ZkMS_72"
      }
    },
    {
      "cell_type": "markdown",
      "source": [
        "\n",
        "\n",
        "7. Difference Between Random and Non-Random Sampling:"
      ],
      "metadata": {
        "id": "OnfPGgQ8TJw5"
      }
    },
    {
      "cell_type": "markdown",
      "source": [
        "- Random Sampling: Reduces bias, allows generalization.\n",
        "\n",
        "- Non-Random Sampling: Easier to conduct but may introduce bias."
      ],
      "metadata": {
        "id": "hr0KjDHVTMFN"
      }
    },
    {
      "cell_type": "markdown",
      "source": [
        "\n",
        "8. Define and Give Examples of Qualitative and Quantitative Data:"
      ],
      "metadata": {
        "id": "6S6OShtDTQT3"
      }
    },
    {
      "cell_type": "markdown",
      "source": [
        "- Qualitative (Categorical): Describes categories (e.g., gender, brand name).\n",
        "\n",
        "- Quantitative (Numerical): Represents measurable quantities (e.g., height, salary)."
      ],
      "metadata": {
        "id": "MZL4rIR5TUev"
      }
    },
    {
      "cell_type": "markdown",
      "source": [
        "9. Types of Data in Statistics:"
      ],
      "metadata": {
        "id": "MHPG9NvvTX9n"
      }
    },
    {
      "cell_type": "markdown",
      "source": [
        "\n",
        "- Qualitative (Nominal, Ordinal)\n",
        "\n",
        "- Quantitative (Interval, Ratio)"
      ],
      "metadata": {
        "id": "QeCG1JN7TZx5"
      }
    },
    {
      "cell_type": "markdown",
      "source": [
        "10. Levels of Measurement:"
      ],
      "metadata": {
        "id": "KcpbPJpCThmu"
      }
    },
    {
      "cell_type": "markdown",
      "source": [
        "- Nominal: Labels without order (e.g., blood type).\n",
        "\n",
        "- Ordinal: Ordered categories (e.g., satisfaction level).\n",
        "\n",
        "- Interval: Ordered with equal spacing, no true zero (e.g., temperature in Celsius).\n",
        "\n",
        "- Ratio: Ordered, equal intervals, true zero (e.g., weight)."
      ],
      "metadata": {
        "id": "UU4X33nvTjbQ"
      }
    },
    {
      "cell_type": "markdown",
      "source": [
        "11. What is the Measure of Central Tendency?\n"
      ],
      "metadata": {
        "id": "h_MeoewITp9G"
      }
    },
    {
      "cell_type": "markdown",
      "source": [
        "It identifies the center of a dataset and includes:\n",
        "\n",
        "- Mean\n",
        "\n",
        "- Median\n",
        "\n",
        "- Mode"
      ],
      "metadata": {
        "id": "D_b07acTTt7w"
      }
    },
    {
      "cell_type": "markdown",
      "source": [
        "12. Define Mean, Median, and Mode:"
      ],
      "metadata": {
        "id": "lT1AxfB8T49d"
      }
    },
    {
      "cell_type": "markdown",
      "source": [
        "\n",
        "\n",
        "- Mean: Average = (Sum of values) / (Number of values)\n",
        "\n",
        "- Median: Middle value in ordered data\n",
        "\n",
        "- Mode: Most frequently occurring value"
      ],
      "metadata": {
        "id": "hnkT1rxVT6gV"
      }
    },
    {
      "cell_type": "markdown",
      "source": [
        "13. Significance of Central Tendency:\n"
      ],
      "metadata": {
        "id": "xGk6BPl2T_Tq"
      }
    },
    {
      "cell_type": "markdown",
      "source": [
        "\n",
        "It gives a single value that represents the whole dataset and simplifies comparison between datasets."
      ],
      "metadata": {
        "id": "rr8Gi6gPUGX3"
      }
    },
    {
      "cell_type": "markdown",
      "source": [
        "\n",
        "\n",
        "14. What is Variance? How is it Calculated?"
      ],
      "metadata": {
        "id": "nYLmftJfUIUD"
      }
    },
    {
      "cell_type": "markdown",
      "source": [
        "\n",
        "Variance measures data spread around the mean:"
      ],
      "metadata": {
        "id": "jEGOPtysUhMJ"
      }
    },
    {
      "cell_type": "markdown",
      "source": [
        "15. What is Standard Deviation?"
      ],
      "metadata": {
        "id": "Ne4uQcKAUxQ1"
      }
    },
    {
      "cell_type": "markdown",
      "source": [
        "\n",
        "Standard deviation is the square root of variance. It indicates the average deviation from the mean:\n",
        "\n",
        "It is important for understanding variability in data."
      ],
      "metadata": {
        "id": "vVvvW-MHVSIe"
      }
    },
    {
      "cell_type": "markdown",
      "source": [
        "16. What is Range in Statistics?\n"
      ],
      "metadata": {
        "id": "OSgjNjWkVcM-"
      }
    },
    {
      "cell_type": "markdown",
      "source": [
        "\n",
        "Range is the difference between the maximum and minimum values:\n",
        " RANGE = MAX - MIN\n",
        ""
      ],
      "metadata": {
        "id": "U4jrlwa7VfOo"
      }
    },
    {
      "cell_type": "markdown",
      "source": [
        "17. Difference Between Variance and Standard Deviation:"
      ],
      "metadata": {
        "id": "1Ljk5pwiVsV_"
      }
    },
    {
      "cell_type": "markdown",
      "source": [
        "- Variance: Square of standard deviation; in squared units.\n",
        "\n",
        "- Standard Deviation: Actual spread in the same unit as data."
      ],
      "metadata": {
        "id": "O5NWTNa5VwH-"
      }
    },
    {
      "cell_type": "markdown",
      "source": [
        "18. What is Skewness in a Dataset?"
      ],
      "metadata": {
        "id": "VCKeMNWIVza9"
      }
    },
    {
      "cell_type": "markdown",
      "source": [
        "\n",
        "Skewness measures asymmetry of data distribution:"
      ],
      "metadata": {
        "id": "L_D1XItvV5nm"
      }
    },
    {
      "cell_type": "markdown",
      "source": [
        "- Symmetric: Skewness = 0\n",
        "\n",
        "- Skewed Right: Positive skew\n",
        "\n",
        "- Skewed Left: Negative skew"
      ],
      "metadata": {
        "id": "U7fG4N1BV7xZ"
      }
    },
    {
      "cell_type": "markdown",
      "source": [
        "19. Positively vs. Negatively Skewed:"
      ],
      "metadata": {
        "id": "NVNvvXo4V_z6"
      }
    },
    {
      "cell_type": "markdown",
      "source": [
        "- Positive Skew: Tail on right, mean > median\n",
        "\n",
        "- Negative Skew: Tail on left, mean < median"
      ],
      "metadata": {
        "id": "RgClErtBWDub"
      }
    },
    {
      "cell_type": "markdown",
      "source": [
        "20. Define and Explain Kurtosis           "
      ],
      "metadata": {
        "id": "eOYWYggKWGc0"
      }
    },
    {
      "cell_type": "markdown",
      "source": [
        "\n",
        "Covariance shows the direction of the relationship between two variables:\n",
        "\n",
        "- Positive: Both increase together\n",
        "\n",
        "- Negative: One increases, the other decreases"
      ],
      "metadata": {
        "id": "3AM_dczxWPAe"
      }
    },
    {
      "cell_type": "markdown",
      "source": [
        "22. What Does Correlation Measure?"
      ],
      "metadata": {
        "id": "HyAfNndZWXlk"
      }
    },
    {
      "cell_type": "markdown",
      "source": [
        "Correlation measures both direction and strength of a linear relationship:\n",
        "\n",
        "- Ranges from -1 to +1\n",
        "\n",
        "- 0 means no correlation"
      ],
      "metadata": {
        "id": "GJ6HfDJhWZhw"
      }
    },
    {
      "cell_type": "markdown",
      "source": [
        "23. Covariance vs. Correlation:"
      ],
      "metadata": {
        "id": "PZOmKWwdWdbH"
      }
    },
    {
      "cell_type": "markdown",
      "source": [
        "- Covariance: Unstandardized measure\n",
        "\n",
        "- Correlation: Standardized measure (unit-free)"
      ],
      "metadata": {
        "id": "YSMRJj86WhTn"
      }
    },
    {
      "cell_type": "markdown",
      "source": [
        "24. Real-World Applications of Statistics:"
      ],
      "metadata": {
        "id": "DifImUKfWkcP"
      }
    },
    {
      "cell_type": "markdown",
      "source": [
        "- Business: Market analysis, quality control\n",
        "\n",
        "- Healthcare: Drug testing, patient outcomes\n",
        "\n",
        "- Education: Exam performance analysis\n",
        "\n",
        "- Government: Policy formulation, census data\n",
        "\n",
        "- Sports: Performance analytics, team strategies"
      ],
      "metadata": {
        "id": "y68KbzZ3WmtK"
      }
    },
    {
      "cell_type": "markdown",
      "source": [
        "PRACTICAL"
      ],
      "metadata": {
        "id": "Z3DpEqH1WvNQ"
      }
    },
    {
      "cell_type": "markdown",
      "source": [
        "1. How do you calculate the mean, median, and mode of a dataset"
      ],
      "metadata": {
        "id": "Fz1iPOfwXfnu"
      }
    },
    {
      "cell_type": "code",
      "source": [
        "import statistics as stats\n",
        "\n",
        "data = [10, 15, 20, 20, 25, 30]\n",
        "print(\"Mean:\", stats.mean(data))\n",
        "print(\"Median:\", stats.median(data))\n",
        "print(\"Mode:\", stats.mode(data))\n"
      ],
      "metadata": {
        "colab": {
          "base_uri": "https://localhost:8080/"
        },
        "id": "OdZm44ExZlsb",
        "outputId": "6aee469d-3f16-447f-8f72-0e8ba93fab26"
      },
      "execution_count": 1,
      "outputs": [
        {
          "output_type": "stream",
          "name": "stdout",
          "text": [
            "Mean: 20\n",
            "Median: 20.0\n",
            "Mode: 20\n"
          ]
        }
      ]
    },
    {
      "cell_type": "markdown",
      "source": [
        "2. Compute Variance and Standard Deviation"
      ],
      "metadata": {
        "id": "BdbMzf3JZpBh"
      }
    },
    {
      "cell_type": "code",
      "source": [
        "print(\"Variance:\", stats.variance(data))\n",
        "print(\"Standard Deviation:\", stats.stdev(data))\n"
      ],
      "metadata": {
        "id": "Rx5wLRBwZsxS"
      },
      "execution_count": null,
      "outputs": []
    },
    {
      "cell_type": "markdown",
      "source": [
        "3. Create a dataset and classify it into nominal, ordinal, interval, and ratio types"
      ],
      "metadata": {
        "id": "9--JMvcLZuY2"
      }
    },
    {
      "cell_type": "code",
      "source": [
        "dataset = {\n",
        "    \"Nominal\": [\"Red\", \"Blue\", \"Green\"],\n",
        "    \"Ordinal\": [\"Poor\", \"Average\", \"Good\", \"Excellent\"],\n",
        "    \"Interval\": [10, 20, 30],  # No true zero\n",
        "    \"Ratio\": [5, 10, 15, 20]   # True zero exists\n",
        "}\n",
        "print(dataset)\n"
      ],
      "metadata": {
        "colab": {
          "base_uri": "https://localhost:8080/"
        },
        "id": "ZQ_2mpHmZx6a",
        "outputId": "68d25d45-7063-4b92-b913-980780ae53d0"
      },
      "execution_count": 2,
      "outputs": [
        {
          "output_type": "stream",
          "name": "stdout",
          "text": [
            "{'Nominal': ['Red', 'Blue', 'Green'], 'Ordinal': ['Poor', 'Average', 'Good', 'Excellent'], 'Interval': [10, 20, 30], 'Ratio': [5, 10, 15, 20]}\n"
          ]
        }
      ]
    },
    {
      "cell_type": "markdown",
      "source": [
        "4. Implement sampling techniques like random sampling and stratified sampling"
      ],
      "metadata": {
        "id": "4MP3b3OnZ1e6"
      }
    },
    {
      "cell_type": "code",
      "source": [
        "import pandas as pd\n",
        "from sklearn.model_selection import train_test_split\n",
        "\n",
        "df = pd.DataFrame({\n",
        "    'Gender': ['M', 'F', 'F', 'M', 'M', 'F', 'F', 'M'],\n",
        "    'Score': [88, 92, 95, 70, 65, 78, 90, 85]\n",
        "})\n",
        "\n",
        "# Random Sampling\n",
        "random_sample = df.sample(n=4)\n",
        "print(\"Random Sample:\\n\", random_sample)\n",
        "\n",
        "# Stratified Sampling based on Gender\n",
        "stratified_sample, _ = train_test_split(df, test_size=0.5, stratify=df['Gender'])\n",
        "print(\"Stratified Sample:\\n\", stratified_sample)\n"
      ],
      "metadata": {
        "colab": {
          "base_uri": "https://localhost:8080/"
        },
        "id": "kvNBIWfGZ5hU",
        "outputId": "be6b243e-9ee4-4827-a2bb-67cb50ffdb4a"
      },
      "execution_count": 3,
      "outputs": [
        {
          "output_type": "stream",
          "name": "stdout",
          "text": [
            "Random Sample:\n",
            "   Gender  Score\n",
            "7      M     85\n",
            "4      M     65\n",
            "0      M     88\n",
            "3      M     70\n",
            "Stratified Sample:\n",
            "   Gender  Score\n",
            "2      F     95\n",
            "5      F     78\n",
            "3      M     70\n",
            "4      M     65\n"
          ]
        }
      ]
    },
    {
      "cell_type": "markdown",
      "source": [
        "6. Create a dataset and plot its histogram to visualize skewness"
      ],
      "metadata": {
        "id": "HmNzquGOZ362"
      }
    },
    {
      "cell_type": "code",
      "source": [
        "import matplotlib.pyplot as plt\n",
        "\n",
        "plt.hist(data, bins=5, edgecolor='black')\n",
        "plt.title(\"Histogram\")\n",
        "plt.xlabel(\"Value\")\n",
        "plt.ylabel(\"Frequency\")\n",
        "plt.show()\n"
      ],
      "metadata": {
        "colab": {
          "base_uri": "https://localhost:8080/",
          "height": 472
        },
        "id": "fLl9SguBaA3L",
        "outputId": "17d59f60-cf2f-42f9-c1c3-b129d85f6f2f"
      },
      "execution_count": 4,
      "outputs": [
        {
          "output_type": "display_data",
          "data": {
            "text/plain": [
              "<Figure size 640x480 with 1 Axes>"
            ],
            "image/png": "[encoded data removed]"
          },
          "metadata": {}
        }
      ]
    },
    {
      "cell_type": "markdown",
      "source": [
        "7. Calculate skewness and kurtosis of a dataset using Python libraries"
      ],
      "metadata": {
        "id": "mMg2jnmPaDRg"
      }
    },
    {
      "cell_type": "code",
      "source": [
        "from scipy.stats import skew, kurtosis\n",
        "\n",
        "print(\"Skewness:\", skew(data))\n",
        "print(\"Kurtosis:\", kurtosis(data))\n"
      ],
      "metadata": {
        "colab": {
          "base_uri": "https://localhost:8080/"
        },
        "id": "C3lyqCOfaE3j",
        "outputId": "429fb43f-8e00-4c91-dd16-4209337e2dc3"
      },
      "execution_count": 5,
      "outputs": [
        {
          "output_type": "stream",
          "name": "stdout",
          "text": [
            "Skewness: 0.0\n",
            "Kurtosis: -0.96\n"
          ]
        }
      ]
    },
    {
      "cell_type": "markdown",
      "source": [
        "8. Generate a dataset and demonstrate positive and negative skewness"
      ],
      "metadata": {
        "id": "aL87eYbBaH5x"
      }
    },
    {
      "cell_type": "code",
      "source": [
        "positive_skew = [1, 2, 2, 3, 4, 10]\n",
        "negative_skew = [10, 8, 6, 5, 5, 4]\n",
        "\n",
        "print(\"Positive Skewness:\", skew(positive_skew))\n",
        "print(\"Negative Skewness:\", skew(negative_skew))\n"
      ],
      "metadata": {
        "colab": {
          "base_uri": "https://localhost:8080/"
        },
        "id": "R6ox-5EeaI5d",
        "outputId": "7768fee9-a3e1-4727-aa37-8f9c10c74c54"
      },
      "execution_count": 6,
      "outputs": [
        {
          "output_type": "stream",
          "name": "stdout",
          "text": [
            "Positive Skewness: 1.418505623226429\n",
            "Negative Skewness: 0.7001135017222389\n"
          ]
        }
      ]
    },
    {
      "cell_type": "markdown",
      "source": [
        "9. Write a Python script to calculate covariance between two datasets"
      ],
      "metadata": {
        "id": "ydh3mIfdaNHy"
      }
    },
    {
      "cell_type": "code",
      "source": [
        "import numpy as np\n",
        "\n",
        "x = [10, 20, 30, 40, 50]\n",
        "y = [15, 25, 35, 45, 60]\n",
        "cov_matrix = np.cov(x, y)\n",
        "print(\"Covariance Matrix:\\n\", cov_matrix)\n"
      ],
      "metadata": {
        "colab": {
          "base_uri": "https://localhost:8080/"
        },
        "id": "NcOCvEd-aNq1",
        "outputId": "4ffa5334-8873-44ff-b2b4-f03a62ac25ad"
      },
      "execution_count": 7,
      "outputs": [
        {
          "output_type": "stream",
          "name": "stdout",
          "text": [
            "Covariance Matrix:\n",
            " [[250. 275.]\n",
            " [275. 305.]]\n"
          ]
        }
      ]
    },
    {
      "cell_type": "markdown",
      "source": [
        "10. Write a Python script to calculate the correlation coefficient between two datasets"
      ],
      "metadata": {
        "id": "qVaGkaDSaSpW"
      }
    },
    {
      "cell_type": "code",
      "source": [
        "correlation = np.corrcoef(x, y)\n",
        "print(\"Correlation Coefficient:\\n\", correlation)\n"
      ],
      "metadata": {
        "colab": {
          "base_uri": "https://localhost:8080/"
        },
        "id": "kZqNUjI4aTVG",
        "outputId": "7f027b31-5a70-47f9-ba31-2f5fb6f1b06d"
      },
      "execution_count": 8,
      "outputs": [
        {
          "output_type": "stream",
          "name": "stdout",
          "text": [
            "Correlation Coefficient:\n",
            " [[1.         0.99589321]\n",
            " [0.99589321 1.        ]]\n"
          ]
        }
      ]
    },
    {
      "cell_type": "markdown",
      "source": [
        "11. Create a scatter plot to visualize the relationship between two variables"
      ],
      "metadata": {
        "id": "zVv-4osvaZo_"
      }
    },
    {
      "cell_type": "code",
      "source": [
        "plt.scatter(x, y)\n",
        "plt.title(\"Scatter Plot\")\n",
        "plt.xlabel(\"X values\")\n",
        "plt.ylabel(\"Y values\")\n",
        "plt.grid(True)\n",
        "plt.show()\n"
      ],
      "metadata": {
        "colab": {
          "base_uri": "https://localhost:8080/",
          "height": 472
        },
        "id": "5d7LKrT5abdU",
        "outputId": "6d9c96a2-4e8a-4ba3-960e-c3d31dce5ee7"
      },
      "execution_count": 9,
      "outputs": [
        {
          "output_type": "display_data",
          "data": {
            "text/plain": [
              "<Figure size 640x480 with 1 Axes>"
            ],
            "image/png": "[encoded data removed]"
          },
          "metadata": {}
        }
      ]
    },
    {
      "cell_type": "markdown",
      "source": [
        "12. Implement and compare simple random sampling and systematic sampling"
      ],
      "metadata": {
        "id": "qsi8DRbmaen8"
      }
    },
    {
      "cell_type": "code",
      "source": [
        "import random\n",
        "\n",
        "population = list(range(1, 101))\n",
        "\n",
        "# Simple Random Sampling\n",
        "simple_random_sample = random.sample(population, 10)\n",
        "\n",
        "# Systematic Sampling\n",
        "k = len(population) // 10\n",
        "start = random.randint(0, k)\n",
        "systematic_sample = [population[i] for i in range(start, len(population), k)]\n",
        "\n",
        "print(\"Simple Random Sample:\", simple_random_sample)\n",
        "print(\"Systematic Sample:\", systematic_sample)\n"
      ],
      "metadata": {
        "colab": {
          "base_uri": "https://localhost:8080/"
        },
        "id": "I_sD1qtcafcB",
        "outputId": "88b0cf3d-b799-4f79-fd37-fa48705288ec"
      },
      "execution_count": 10,
      "outputs": [
        {
          "output_type": "stream",
          "name": "stdout",
          "text": [
            "Simple Random Sample: [83, 57, 62, 5, 41, 97, 98, 59, 66, 11]\n",
            "Systematic Sample: [4, 14, 24, 34, 44, 54, 64, 74, 84, 94]\n"
          ]
        }
      ]
    },
    {
      "cell_type": "markdown",
      "source": [
        "13. Calculate the mean, median, and mode of grouped data"
      ],
      "metadata": {
        "id": "4kL7hWv4aisN"
      }
    },
    {
      "cell_type": "code",
      "source": [
        "import pandas as pd\n",
        "\n",
        "grouped_data = {\n",
        "    'Class Interval': ['0-10', '10-20', '20-30', '30-40'],\n",
        "    'Frequency': [5, 8, 15, 2]\n",
        "}\n",
        "\n",
        "df = pd.DataFrame(grouped_data)\n",
        "\n",
        "# Midpoints\n",
        "df['Midpoint'] = df['Class Interval'].apply(lambda x: sum(map(int, x.split('-'))) / 2)\n",
        "\n",
        "# Mean\n",
        "mean = (df['Midpoint'] * df['Frequency']).sum() / df['Frequency'].sum()\n",
        "print(\"Grouped Mean:\", mean)\n"
      ],
      "metadata": {
        "colab": {
          "base_uri": "https://localhost:8080/"
        },
        "id": "mk3QBNL4amBs",
        "outputId": "c9d96b4d-78fe-40e4-9c49-6497841a0289"
      },
      "execution_count": 11,
      "outputs": [
        {
          "output_type": "stream",
          "name": "stdout",
          "text": [
            "Grouped Mean: 19.666666666666668\n"
          ]
        }
      ]
    },
    {
      "cell_type": "markdown",
      "source": [
        "14 Simulate data using Python and calculate its central tendency and dispersion."
      ],
      "metadata": {
        "id": "NV9yIOtnauCe"
      }
    },
    {
      "cell_type": "code",
      "source": [
        "simulated_data = np.random.normal(loc=50, scale=10, size=100)\n",
        "\n",
        "print(\"Mean:\", np.mean(simulated_data))\n",
        "print(\"Median:\", np.median(simulated_data))\n",
        "print(\"Std Dev:\", np.std(simulated_data))\n",
        "print(\"Variance:\", np.var(simulated_data))\n"
      ],
      "metadata": {
        "colab": {
          "base_uri": "https://localhost:8080/"
        },
        "id": "G9cPsLEwavCE",
        "outputId": "15acfee8-361f-4163-ffb2-1c8d7f140ae9"
      },
      "execution_count": 12,
      "outputs": [
        {
          "output_type": "stream",
          "name": "stdout",
          "text": [
            "Mean: 49.6813882089052\n",
            "Median: 48.69732762384676\n",
            "Std Dev: 10.408876398220482\n",
            "Variance: 108.3447078734314\n"
          ]
        }
      ]
    },
    {
      "cell_type": "markdown",
      "source": [
        "15. Use NumPy or pandas to summarize a dataset’s descriptive statistics"
      ],
      "metadata": {
        "id": "UlxV-kUabWRr"
      }
    },
    {
      "cell_type": "code",
      "source": [
        "import pandas as pd\n",
        "import numpy as np\n",
        "\n",
        "data = np.random.randint(10, 100, size=50)\n",
        "df = pd.DataFrame(data, columns=[\"Scores\"])\n",
        "\n",
        "print(df.describe())  # count, mean, std, min, 25%, 50%, 75%, max\n"
      ],
      "metadata": {
        "id": "rQ8FtlUbcqwV"
      },
      "execution_count": null,
      "outputs": []
    },
    {
      "cell_type": "markdown",
      "source": [
        "16. Plot a boxplot to understand the spread and identify outliers"
      ],
      "metadata": {
        "id": "PiJfJA2GbadP"
      }
    },
    {
      "cell_type": "code",
      "source": [
        "import matplotlib.pyplot as plt\n",
        "\n",
        "plt.boxplot(df[\"Scores\"])\n",
        "plt.title(\"Boxplot of Scores\")\n",
        "plt.ylabel(\"Value\")\n",
        "plt.grid(True)\n",
        "plt.show()\n"
      ],
      "metadata": {
        "id": "c5Qm2bU3cpBE"
      },
      "execution_count": null,
      "outputs": []
    },
    {
      "cell_type": "markdown",
      "source": [
        "17. Calculate the interquartile range (IQR) of a dataset"
      ],
      "metadata": {
        "id": "4e0n3UEVbcIp"
      }
    },
    {
      "cell_type": "code",
      "source": [
        "Q1 = df[\"Scores\"].quantile(0.25)\n",
        "Q3 = df[\"Scores\"].quantile(0.75)\n",
        "IQR = Q3 - Q1\n",
        "print(\"IQR:\", IQR)\n"
      ],
      "metadata": {
        "id": "twpC_NvgcnEK"
      },
      "execution_count": null,
      "outputs": []
    },
    {
      "cell_type": "markdown",
      "source": [
        "18. Implement Z-score normalization and explain its significance"
      ],
      "metadata": {
        "id": "3l4f0C46bfRJ"
      }
    },
    {
      "cell_type": "code",
      "source": [
        "from scipy.stats import zscore\n",
        "\n",
        "# Z-score = (x - mean) / std deviation\n",
        "df[\"Z_score\"] = zscore(df[\"Scores\"])\n",
        "print(df.head())\n",
        "\n",
        "# Significance: Converts data to standard scale with mean=0 and std=1.\n"
      ],
      "metadata": {
        "id": "BPny2ybiclKp"
      },
      "execution_count": null,
      "outputs": []
    },
    {
      "cell_type": "markdown",
      "source": [
        "19. Compare two datasets using their standard deviations"
      ],
      "metadata": {
        "id": "96nai6Bfbh7C"
      }
    },
    {
      "cell_type": "code",
      "source": [
        "data1 = np.random.normal(50, 5, 100)\n",
        "data2 = np.random.normal(50, 15, 100)\n",
        "\n",
        "print(\"Std Dev Dataset 1:\", np.std(data1))\n",
        "print(\"Std Dev Dataset 2:\", np.std(data2))\n",
        "# Dataset with higher std dev has more variability\n"
      ],
      "metadata": {
        "colab": {
          "base_uri": "https://localhost:8080/"
        },
        "id": "8JjZhLKMcjRt",
        "outputId": "242a0dd9-22a0-4361-89da-aae0edcbb72c"
      },
      "execution_count": 24,
      "outputs": [
        {
          "output_type": "stream",
          "name": "stdout",
          "text": [
            "Std Dev Dataset 1: 5.17750906777072\n",
            "Std Dev Dataset 2: 15.508197379261537\n"
          ]
        }
      ]
    },
    {
      "cell_type": "markdown",
      "source": [
        "20 Write a Python program to visualize covariance using a heatmap"
      ],
      "metadata": {
        "id": "K_WZ6tczbkWb"
      }
    },
    {
      "cell_type": "code",
      "source": [
        "import seaborn as sns\n",
        "\n",
        "df2 = pd.DataFrame({\n",
        "    \"Math\": np.random.randint(60, 100, 50),\n",
        "    \"Science\": np.random.randint(50, 100, 50),\n",
        "    \"English\": np.random.randint(55, 95, 50)\n",
        "})\n",
        "\n",
        "cov_matrix = df2.cov()\n",
        "sns.heatmap(cov_matrix, annot=True, cmap=\"coolwarm\")\n",
        "plt.title(\"Covariance Heatmap\")\n",
        "plt.show()\n"
      ],
      "metadata": {
        "colab": {
          "base_uri": "https://localhost:8080/",
          "height": 452
        },
        "id": "23gVt3k8chhn",
        "outputId": "239cd292-bc3e-42ff-8d1f-331ae4defc8e"
      },
      "execution_count": 25,
      "outputs": [
        {
          "output_type": "display_data",
          "data": {
            "text/plain": [
              "<Figure size 640x480 with 2 Axes>"
            ],
            "image/png": "[encoded data removed]"
          },
          "metadata": {}
        }
      ]
    },
    {
      "cell_type": "markdown",
      "source": [
        "21. Use seaborn to create a correlation matrix for a dataset"
      ],
      "metadata": {
        "id": "ADT5TVK7bmgm"
      }
    },
    {
      "cell_type": "code",
      "source": [
        "corr_matrix = df2.corr()\n",
        "sns.heatmap(corr_matrix, annot=True, cmap=\"YlGnBu\")\n",
        "plt.title(\"Correlation Matrix\")\n",
        "plt.show()\n"
      ],
      "metadata": {
        "colab": {
          "base_uri": "https://localhost:8080/",
          "height": 452
        },
        "id": "ZaIMLtV1caXQ",
        "outputId": "731b8091-a805-450a-cd0b-578ada9fbaa8"
      },
      "execution_count": 26,
      "outputs": [
        {
          "output_type": "display_data",
          "data": {
            "text/plain": [
              "<Figure size 640x480 with 2 Axes>"
            ],
            "image/png": "[encoded data removed]"
          },
          "metadata": {}
        }
      ]
    },
    {
      "cell_type": "markdown",
      "source": [
        "22. Generate a dataset and implement both variance and standard deviation computations"
      ],
      "metadata": {
        "id": "oqb8N3_jboxs"
      }
    },
    {
      "cell_type": "code",
      "source": [
        "print(\"Variance:\", np.var(df2[\"Math\"]))\n",
        "print(\"Standard Deviation:\", np.std(df2[\"Math\"]))\n"
      ],
      "metadata": {
        "colab": {
          "base_uri": "https://localhost:8080/"
        },
        "id": "XA6xw7Agcdwo",
        "outputId": "746086ed-8daa-4c4c-9f06-132304417080"
      },
      "execution_count": 27,
      "outputs": [
        {
          "output_type": "stream",
          "name": "stdout",
          "text": [
            "Variance: 136.67359999999996\n",
            "Standard Deviation: 11.690748479032468\n"
          ]
        }
      ]
    },
    {
      "cell_type": "markdown",
      "source": [
        "23. Visualize skewness and kurtosis using Python libraries like matplotlib or seaborn"
      ],
      "metadata": {
        "id": "8D-EubbMbr_F"
      }
    },
    {
      "cell_type": "code",
      "source": [
        "from scipy.stats import skew, kurtosis\n",
        "\n",
        "# Distribution Plot\n",
        "sns.histplot(df2[\"Math\"], kde=True)\n",
        "plt.title(\"Distribution of Math Scores\")\n",
        "plt.show()\n",
        "\n",
        "print(\"Skewness:\", skew(df2[\"Math\"]))\n",
        "print(\"Kurtosis:\", kurtosis(df2[\"Math\"]))\n"
      ],
      "metadata": {
        "id": "TyxUTxJQcKQT"
      },
      "execution_count": null,
      "outputs": []
    },
    {
      "cell_type": "markdown",
      "source": [
        "24 Implement the Pearson and Spearman correlation coefficients for a dataset"
      ],
      "metadata": {
        "id": "P8r5a4Kfbt-_"
      }
    },
    {
      "cell_type": "code",
      "source": [
        "from scipy.stats import pearsonr, spearmanr\n",
        "import pandas as pd\n",
        "\n",
        "# Create a sample DataFrame\n",
        "df2 = pd.DataFrame({\n",
        "    \"Math\": [85, 90, 78, 92, 88],\n",
        "    \"Science\": [88, 95, 80, 90, 85]\n",
        "})\n",
        "\n",
        "math = df2[\"Math\"]\n",
        "science = df2[\"Science\"]\n",
        "\n",
        "pearson_corr, _ = pearsonr(math, science)\n",
        "spearman_corr, _ = spearmanr(math, science)\n",
        "\n",
        "print(\"Pearson Correlation:\", pearson_corr)\n",
        "print(\"Spearman Correlation:\", spearman_corr)"
      ],
      "metadata": {
        "colab": {
          "base_uri": "https://localhost:8080/"
        },
        "id": "so4rl-AvcIhQ",
        "outputId": "6a35c72b-f507-4d59-e935-cce761cff278"
      },
      "execution_count": 16,
      "outputs": [
        {
          "output_type": "stream",
          "name": "stdout",
          "text": [
            "Pearson Correlation: 0.8120287018349333\n",
            "Spearman Correlation: 0.7999999999999999\n"
          ]
        }
      ]
    }
  ]
}